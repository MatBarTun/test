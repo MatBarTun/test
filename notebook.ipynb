{
 "cells": [
  {
   "attachments": {},
   "cell_type": "markdown",
   "metadata": {},
   "source": [
    "# Test"
   ]
  },
  {
   "cell_type": "code",
   "execution_count": null,
   "metadata": {},
   "outputs": [],
   "source": [
    "import time\n",
    "import psutil\n",
    "\n",
    "def benchmark():\n",
    "    start_time = time.time()\n",
    "    \n",
    "    # Perform your benchmarking tasks here\n",
    "    \n",
    "    end_time = time.time()\n",
    "    elapsed_time = end_time - start_time\n",
    "    \n",
    "    # Print benchmark results\n",
    "    print(f\"Benchmark completed in {elapsed_time:.2f} seconds.\")\n",
    "    \n",
    "    # Get CPU and memory usage\n",
    "    cpu_percent = psutil.cpu_percent()\n",
    "    memory_percent = psutil.virtual_memory().percent\n",
    "    print(f\"CPU Usage: {cpu_percent}%\")\n",
    "    print(f\"Memory Usage: {memory_percent}%\")\n",
    "\n",
    "# Run the benchmark\n",
    "benchmark()\n",
    "\n",
    "#testing Github"
   ]
  }
 ],
 "metadata": {
  "kernelspec": {
   "display_name": "Python 3",
   "language": "python",
   "name": "python3"
  },
  "language_info": {
   "name": "python",
   "version": "3.10.6"
  },
  "orig_nbformat": 4
 },
 "nbformat": 4,
 "nbformat_minor": 2
}
